{
 "cells": [
  {
   "cell_type": "code",
   "execution_count": null,
   "id": "8caf78ca",
   "metadata": {},
   "outputs": [],
   "source": [
    "def alan():\n",
    "    pi_değeri = float(input(\"Pi değerini giriniz: \"))\n",
    "    yarıçap = float(input(\"Yarıçap değerini giriniz: \"))\n",
    "    daire_alanı = pi_değeri * yarıçap * yarıçap\n",
    "    print(\"Dairenin alanı {} olur\" .format(daire_alanı))\n",
    "alan()"
   ]
  },
  {
   "cell_type": "code",
   "execution_count": null,
   "id": "021fe206",
   "metadata": {},
   "outputs": [],
   "source": [
    "def faktöriyel(sayı):\n",
    "    faktöriyel_değeri = 1\n",
    "    for i in range(1,sayı+1):\n",
    "        faktöriyel_değeri *= i\n",
    "    print(\"{} sayısının faktöriyeli {} değeridir\".format(sayı,faktöriyel_değeri))\n",
    "    \n",
    "sayı = int(input(\"Bir sayı giriniz: \"))\n",
    "faktöriyel(sayı)"
   ]
  },
  {
   "cell_type": "code",
   "execution_count": null,
   "id": "233ed785",
   "metadata": {},
   "outputs": [],
   "source": [
    "def yaş():\n",
    "    dogum_yılı = int(input(\"Lütfen doğum yılınızı giriniz: \"))\n",
    "    bulunan_yıl = int(input(\"Hangi yılda olduğumuzu giriniz: \"))\n",
    "    sonuç = bulunan_yıl - dogum_yılı\n",
    "    print(\"{} yılında {} yaşınızdasınız.\".format(bulunan_yıl,sonuç))\n",
    "yaş()"
   ]
  },
  {
   "cell_type": "code",
   "execution_count": null,
   "id": "7f6ad40a",
   "metadata": {},
   "outputs": [],
   "source": [
    "def emeklilik_durumu(isim,doğum_yılı):\n",
    "    def yaş_hesapla(doğum_yılı):\n",
    "        Bulunduğunuz_yıl = int(input(\"Hangi yılda bulunduğunu giriniz: \"))\n",
    "        yaş = Bulunduğunuz_yıl - doğum_yılı\n",
    "        return yaş\n",
    "    yaş = yaş_hesapla(doğum_yılı)\n",
    "    if yaş >= 65 :\n",
    "        return(\"Emekli oldunuz\")\n",
    "    else: \n",
    "        kalan_yıl = 65 - yaş\n",
    "        return (\"{} emekliliğine {} yıl kaldı.\".format(isim,kalan_yıl))\n",
    "isim = input(\"Lütfen isminizi giriniz: \")\n",
    "doğum_yılı = int(input(\"Lütfen doğum yılınızı giriniz: \"))\n",
    "sonuç = emeklilik_durumu(isim,doğum_yılı)\n",
    "print(sonuç)"
   ]
  }
 ],
 "metadata": {
  "kernelspec": {
   "display_name": "Python 3 (ipykernel)",
   "language": "python",
   "name": "python3"
  },
  "language_info": {
   "codemirror_mode": {
    "name": "ipython",
    "version": 3
   },
   "file_extension": ".py",
   "mimetype": "text/x-python",
   "name": "python",
   "nbconvert_exporter": "python",
   "pygments_lexer": "ipython3",
   "version": "3.9.13"
  }
 },
 "nbformat": 4,
 "nbformat_minor": 5
}
