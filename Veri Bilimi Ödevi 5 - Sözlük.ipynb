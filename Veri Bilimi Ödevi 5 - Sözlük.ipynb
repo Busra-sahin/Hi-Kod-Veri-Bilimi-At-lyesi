{
 "cells": [
  {
   "cell_type": "code",
   "execution_count": null,
   "id": "e3232acd",
   "metadata": {},
   "outputs": [],
   "source": [
    "#Bir sözlük oluşturulur ve bu sözlükte öğrencilerin isimleri ve Matematik, Fizik, Kimya notları tutulur. Kullanıcıdan isim ve ders ismi(Matematik, Fizik, Kimya) istenir ve bu bilgilere göre çıktı verilir."
   ]
  },
  {
   "cell_type": "code",
   "execution_count": 52,
   "id": "2f47ce4e",
   "metadata": {
    "scrolled": true
   },
   "outputs": [
    {
     "name": "stdout",
     "output_type": "stream",
     "text": [
      "Lütfen öğrenci adını giriniz: Büşra\n",
      "Lütfen ders adınız giriniz(Matematik,Fizik,Kimya):Kimya\n",
      "Büşra isimli öğrencinin Kimya ders notu 95\n"
     ]
    }
   ],
   "source": [
    "ogrenciler = {\n",
    "    \"Büşra\": {\"Matematik\":100, \"Fizik\":90, \"Kimya\":95},\n",
    "    \"Betül\": {\"Matematik\":90,\"Fizik\":85, \"Kimya\":75},\n",
    "    \"Anıl\": {\"Matematik\":80,\"Fizik\":95, \"Kimya\":70},\n",
    "    \"Kaan\": {\"Matematik\":95,\"Fizik\":100, \"Kimya\":95}   \n",
    "}\n",
    "\n",
    "    \n",
    "ogrenci_adı = input(\"Lütfen öğrenci adını giriniz: \")\n",
    "ders_adı = input(\"Lütfen ders adınız giriniz(Matematik,Fizik,Kimya):\")\n",
    "\n",
    "if ogrenci_adı in ogrenciler and ders_adı in ogrenciler[ogrenci_adı]:\n",
    "    notu = ogrenciler[ogrenci_adı][ders_adı]\n",
    "    print(\"{} isimli öğrencinin {} ders notu {}\".format(ogrenci_adı,ders_adı,notu))\n",
    "else: \n",
    "    print(\"Öğrenci bilgisi bulunamadı.Lütfen girdiğiniz ifadelerin doğru olup olmadığını kontrol ediniz\")"
   ]
  },
  {
   "cell_type": "code",
   "execution_count": 15,
   "id": "55e2eb3e",
   "metadata": {
    "scrolled": true
   },
   "outputs": [
    {
     "data": {
      "text/plain": [
       "{'Büşra': {'Matematik': 100, 'Fizik': 90, 'Kimya': 95},\n",
       " 'Betül': {'Matematik': 90, 'Fizik': 85, 'Kimya': 75},\n",
       " 'Anıl': {'Matematik': 80, 'Fizik': 95, 'Kimya': 70},\n",
       " 'Kaan': {'Matematik': 95, 'Fizik': 100, 'Kimya': 95}}"
      ]
     },
     "execution_count": 15,
     "metadata": {},
     "output_type": "execute_result"
    }
   ],
   "source": [
    "ogrenciler"
   ]
  },
  {
   "cell_type": "code",
   "execution_count": null,
   "id": "1d592739",
   "metadata": {},
   "outputs": [],
   "source": [
    "#Sözlük üzerinde değerleri değiştirme, yeni değer ekleme, kullanıcıya ulaşmak istediği bilgileri sorma gibi uygulamalar yapın."
   ]
  },
  {
   "cell_type": "code",
   "execution_count": 21,
   "id": "8cc67f22",
   "metadata": {},
   "outputs": [
    {
     "name": "stdout",
     "output_type": "stream",
     "text": [
      "{'Büşra': {'Matematik': 100, 'Fizik': 90, 'Kimya': 95}, 'Betül': {'Matematik': 90, 'Fizik': 85, 'Kimya': 75}, 'Anıl': {'Matematik': 80, 'Fizik': 95, 'Kimya': 70}, 'Kaan': {'Matematik': 95, 'Fizik': 100, 'Kimya': 95}, 'Kerem': {'Matematik': 92, 'Fizik': 88, 'Kimya': 96}}\n"
     ]
    }
   ],
   "source": [
    "ogrenciler[\"Kerem\"] = {\"Matematik\":92, \"Fizik\":88,\"Kimya\":96}\n",
    "print(ogrenciler)"
   ]
  },
  {
   "cell_type": "code",
   "execution_count": 28,
   "id": "5dd1ed50",
   "metadata": {},
   "outputs": [],
   "source": [
    "def not_degistir(ogrenci_adı,ders_adı):\n",
    "    yeni_not = int(input(\"Lütfen yeni not değerini giriniz:\"))\n",
    "    print(f\"{ogrenci_adı} isimli öğrencinin {ders_adı} ders notu {yeni_not} olarak güncellenmiştir.\")\n",
    "     "
   ]
  },
  {
   "cell_type": "code",
   "execution_count": 29,
   "id": "e45499a2",
   "metadata": {},
   "outputs": [
    {
     "name": "stdout",
     "output_type": "stream",
     "text": [
      "Lütfen yeni not değerini giriniz:85\n",
      "Büşra isimli öğrencinin Kimya ders notu 85 olarak güncellenmiştir.\n"
     ]
    }
   ],
   "source": [
    "not_degistir(\"Büşra\",\"Kimya\")"
   ]
  },
  {
   "cell_type": "code",
   "execution_count": null,
   "id": "ab55aabe",
   "metadata": {},
   "outputs": [],
   "source": [
    "def ogrenci_ekle():\n",
    "    ogrenci_adı = input(\"Lütfen eklemek istediğiniz öğrencinin adını giriniz:\")\n",
    "    Matematik_notu = input(\"Lütfen Matematik notunu giriniz:\")\n",
    "    Fizik_notu = input(\"Lütfen Fizik notunu giriniz:\")\n",
    "    Kimya_notu = input(\"Lütfen Kimya notunu giriniz:\")\n",
    "    if ogrenci_adı in ogrenciler:\n",
    "        print(\"Bu öğrenci sistemde zaten kayıtlı.\")\n",
    "    else: \n",
    "        ogrenciler[ogrenci_adı] = {\"Matematik\": Matematik_notu,\"Fizik\":Fizik_notu,\"Kimya\":Kimya_notu}\n",
    "        print(f\"{ogrenci_adı} isimli öğrencinin bilgileri başarıyla kaydedildi.\")\n",
    "ogrenci_ekle()\n",
    "\n",
    "for ogrenci_adı,ders_adı in ogrenciler.items():\n",
    "    print(f\"{ogrenci_adı}: {ders_adı}\")"
   ]
  },
  {
   "cell_type": "code",
   "execution_count": 48,
   "id": "1fb96f46",
   "metadata": {},
   "outputs": [
    {
     "name": "stdout",
     "output_type": "stream",
     "text": [
      "{'Büşra': {'Matematik': 100, 'Fizik': 90, 'Kimya': 95}, 'Betül': {'Matematik': 95, 'Kimya': 76}, 'Anıl': {'Matematik': 80, 'Fizik': 95, 'Kimya': 70}, 'Kaan': {'Matematik': 95, 'Fizik': 100, 'Kimya': 95}}\n"
     ]
    }
   ],
   "source": [
    "ogrenciler.update({\"Betül\":{\"Matematik\":95, \"Kimya\":76}})\n",
    "print(ogrenciler)"
   ]
  },
  {
   "cell_type": "code",
   "execution_count": 53,
   "id": "9eb99bde",
   "metadata": {},
   "outputs": [
    {
     "data": {
      "text/plain": [
       "{'Büşra': {'Matematik': 100, 'Fizik': 90, 'Kimya': 95},\n",
       " 'Betül': {'Matematik': 90, 'Fizik': 85, 'Kimya': 75},\n",
       " 'Kaan': {'Matematik': 95, 'Fizik': 100, 'Kimya': 95}}"
      ]
     },
     "execution_count": 53,
     "metadata": {},
     "output_type": "execute_result"
    }
   ],
   "source": [
    "del ogrenciler[\"Anıl\"]\n",
    "ogrenciler"
   ]
  },
  {
   "cell_type": "code",
   "execution_count": 54,
   "id": "f7a297df",
   "metadata": {},
   "outputs": [
    {
     "name": "stdout",
     "output_type": "stream",
     "text": [
      "Lütfen eklemek istediğiniz öğrencinin adını giriniz:Anıl \n",
      "Lütfen Matematik notunu giriniz:54\n",
      "Lütfen Fizik notunu giriniz:68\n",
      "Lütfen Kimya notunu giriniz:79\n",
      "Anıl  isimli öğrencinin bilgileri başarıyla kaydedildi.\n"
     ]
    }
   ],
   "source": [
    "ogrenci_ekle()"
   ]
  }
 ],
 "metadata": {
  "kernelspec": {
   "display_name": "Python 3 (ipykernel)",
   "language": "python",
   "name": "python3"
  },
  "language_info": {
   "codemirror_mode": {
    "name": "ipython",
    "version": 3
   },
   "file_extension": ".py",
   "mimetype": "text/x-python",
   "name": "python",
   "nbconvert_exporter": "python",
   "pygments_lexer": "ipython3",
   "version": "3.9.13"
  }
 },
 "nbformat": 4,
 "nbformat_minor": 5
}
