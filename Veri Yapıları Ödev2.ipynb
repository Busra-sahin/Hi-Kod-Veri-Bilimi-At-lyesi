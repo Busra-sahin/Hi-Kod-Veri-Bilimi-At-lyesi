{
 "cells": [
  {
   "cell_type": "code",
   "execution_count": null,
   "id": "0f8a0230",
   "metadata": {},
   "outputs": [],
   "source": [
    "maaş = int(input(\"Maaşınızı giriniz: \"))\n",
    "if maaş <=10000:\n",
    "    yeni_maaş = maaş * 95 / 100\n",
    "    print(yeni_maaş)\n",
    "if 10000 < maaş <= 25000:\n",
    "    yeni_maaş = maaş * 90 / 100\n",
    "    print(yeni_maaş)\n",
    "if 25000 < maaş <= 45000:\n",
    "    yeni_maaş = maaş * 75 / 100\n",
    "    print(yeni_maaş)\n",
    "else :\n",
    "    yeni_maaş = maaş * 70 / 100\n",
    "    print(yeni_maaş)"
   ]
  },
  {
   "cell_type": "code",
   "execution_count": null,
   "id": "f1d2e2e2",
   "metadata": {},
   "outputs": [],
   "source": [
    "kullanıcı_adı = input(\"Kullanıcı adı giriniz: \")\n",
    "şifre =input(\"6 haneli şifre oluşturunuz: \")\n",
    "if len(şifre) < 6:\n",
    "    print(\"Lütfen altı haneli şifre giriniz...\")\n",
    "else:\n",
    "    print(\"Hesabınız oluşturuldu\")"
   ]
  },
  {
   "cell_type": "code",
   "execution_count": null,
   "id": "c9b0fc72",
   "metadata": {},
   "outputs": [],
   "source": [
    "while True:\n",
    "    kullanıcı_adı = input(\"Lütfen kullanıcı adı giriniz: \")\n",
    "    şifre = input(\"Lütfen şifre oluşturunuz: \")\n",
    "    if 5<= len(şifre) <= 10:\n",
    "        print(\"Hesabınız oluşturuldu\")\n",
    "        break\n",
    "    else:\n",
    "        print(\"Lütfen girdiğiniz şifre 5 haneden az 10 haneden fazla olmasın\")"
   ]
  },
  {
   "cell_type": "code",
   "execution_count": null,
   "id": "680f0ed1",
   "metadata": {},
   "outputs": [],
   "source": [
    "kullanıcı_adı = input(\"Lütfen kullancıı adı giriniz: \")\n",
    "tanımlı_şifre = input(\"Lütfen şifrenizi giriniz: \")\n",
    "şifre_hakkı = 3\n",
    "\n",
    "while True:\n",
    "    gelen_şifre = input(\"Şifrenizi giriniz: \")\n",
    "    if gelen_şifre != tanımlı_şifre:\n",
    "        print(\"Yanlış şifre girdiniz...\")\n",
    "        şifre_hakkı -= 1 \n",
    "        print(\"Kalan hakkınız:\",şifre_hakkı)\n",
    "        if şifre_hakkı == 0:\n",
    "            print(\"Hakkınız doldu, program bitti...\")\n",
    "            break\n",
    "    else:\n",
    "        print(\"Giriş yapıldı\")"
   ]
  }
 ],
 "metadata": {
  "kernelspec": {
   "display_name": "Python 3 (ipykernel)",
   "language": "python",
   "name": "python3"
  },
  "language_info": {
   "codemirror_mode": {
    "name": "ipython",
    "version": 3
   },
   "file_extension": ".py",
   "mimetype": "text/x-python",
   "name": "python",
   "nbconvert_exporter": "python",
   "pygments_lexer": "ipython3",
   "version": "3.9.13"
  }
 },
 "nbformat": 4,
 "nbformat_minor": 5
}
