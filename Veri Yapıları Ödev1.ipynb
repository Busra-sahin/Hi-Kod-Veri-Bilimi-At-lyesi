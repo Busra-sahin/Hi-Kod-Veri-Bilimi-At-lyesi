{
 "cells": [
  {
   "cell_type": "code",
   "execution_count": 13,
   "id": "5a9ae897",
   "metadata": {},
   "outputs": [
    {
     "name": "stdout",
     "output_type": "stream",
     "text": [
      "7\n",
      "<class 'str'>\n"
     ]
    }
   ],
   "source": [
    "a = \"7\"\n",
    "print(a)\n",
    "print(type(a))"
   ]
  },
  {
   "cell_type": "code",
   "execution_count": 16,
   "id": "b7ca8963",
   "metadata": {},
   "outputs": [],
   "source": [
    "a = float(a)"
   ]
  },
  {
   "cell_type": "code",
   "execution_count": 17,
   "id": "95b13dbb",
   "metadata": {},
   "outputs": [
    {
     "data": {
      "text/plain": [
       "7.0"
      ]
     },
     "execution_count": 17,
     "metadata": {},
     "output_type": "execute_result"
    }
   ],
   "source": [
    "a"
   ]
  },
  {
   "cell_type": "code",
   "execution_count": 18,
   "id": "4c3da90e",
   "metadata": {},
   "outputs": [],
   "source": [
    "b = \"Hi Kod Veri Bilimi\""
   ]
  },
  {
   "cell_type": "code",
   "execution_count": 19,
   "id": "2a57165d",
   "metadata": {},
   "outputs": [
    {
     "data": {
      "text/plain": [
       "str"
      ]
     },
     "execution_count": 19,
     "metadata": {},
     "output_type": "execute_result"
    }
   ],
   "source": [
    "type(b)"
   ]
  },
  {
   "cell_type": "code",
   "execution_count": 20,
   "id": "d81cf79f",
   "metadata": {},
   "outputs": [
    {
     "data": {
      "text/plain": [
       "['Hi', 'Kod', 'Veri', 'Bilimi']"
      ]
     },
     "execution_count": 20,
     "metadata": {},
     "output_type": "execute_result"
    }
   ],
   "source": [
    "b.split()"
   ]
  },
  {
   "cell_type": "code",
   "execution_count": 21,
   "id": "72d9deb6",
   "metadata": {},
   "outputs": [
    {
     "data": {
      "text/plain": [
       "str"
      ]
     },
     "execution_count": 21,
     "metadata": {},
     "output_type": "execute_result"
    }
   ],
   "source": [
    "type(b)"
   ]
  },
  {
   "cell_type": "code",
   "execution_count": 22,
   "id": "e50ac1e7",
   "metadata": {},
   "outputs": [
    {
     "name": "stdout",
     "output_type": "stream",
     "text": [
      "<class 'float'>\n"
     ]
    }
   ],
   "source": [
    "c = 18.3\n",
    "print(type(c))\n"
   ]
  },
  {
   "cell_type": "code",
   "execution_count": 23,
   "id": "3ef1a85b",
   "metadata": {},
   "outputs": [
    {
     "data": {
      "text/plain": [
       "18"
      ]
     },
     "execution_count": 23,
     "metadata": {},
     "output_type": "execute_result"
    }
   ],
   "source": [
    "c = int(c)\n",
    "c"
   ]
  },
  {
   "cell_type": "code",
   "execution_count": 24,
   "id": "39558e7d",
   "metadata": {},
   "outputs": [],
   "source": [
    "büşra = 21\n",
    "betül = 25\n",
    "senem = 19"
   ]
  },
  {
   "cell_type": "code",
   "execution_count": 25,
   "id": "d543dbe5",
   "metadata": {},
   "outputs": [
    {
     "data": {
      "text/plain": [
       "False"
      ]
     },
     "execution_count": 25,
     "metadata": {},
     "output_type": "execute_result"
    }
   ],
   "source": [
    "büşra > betül"
   ]
  },
  {
   "cell_type": "code",
   "execution_count": 27,
   "id": "f6af5f51",
   "metadata": {},
   "outputs": [
    {
     "data": {
      "text/plain": [
       "True"
      ]
     },
     "execution_count": 27,
     "metadata": {},
     "output_type": "execute_result"
    }
   ],
   "source": [
    "senem <= büşra "
   ]
  },
  {
   "cell_type": "code",
   "execution_count": 28,
   "id": "973dc717",
   "metadata": {},
   "outputs": [
    {
     "data": {
      "text/plain": [
       "True"
      ]
     },
     "execution_count": 28,
     "metadata": {},
     "output_type": "execute_result"
    }
   ],
   "source": [
    "betül >= senem\n"
   ]
  },
  {
   "cell_type": "code",
   "execution_count": 29,
   "id": "2c39293f",
   "metadata": {},
   "outputs": [
    {
     "data": {
      "text/plain": [
       "True"
      ]
     },
     "execution_count": 29,
     "metadata": {},
     "output_type": "execute_result"
    }
   ],
   "source": [
    "betül <30 and betül >18"
   ]
  },
  {
   "cell_type": "code",
   "execution_count": 30,
   "id": "56d260f5",
   "metadata": {},
   "outputs": [
    {
     "data": {
      "text/plain": [
       "False"
      ]
     },
     "execution_count": 30,
     "metadata": {},
     "output_type": "execute_result"
    }
   ],
   "source": [
    "büşra < senem and büşra >betül"
   ]
  },
  {
   "cell_type": "code",
   "execution_count": 31,
   "id": "83f2ba44",
   "metadata": {},
   "outputs": [
    {
     "data": {
      "text/plain": [
       "True"
      ]
     },
     "execution_count": 31,
     "metadata": {},
     "output_type": "execute_result"
    }
   ],
   "source": [
    "not senem < 16"
   ]
  },
  {
   "cell_type": "code",
   "execution_count": 63,
   "id": "cd90358c",
   "metadata": {},
   "outputs": [
    {
     "name": "stdout",
     "output_type": "stream",
     "text": [
      "Birinci değeri giriniz: 4\n",
      "İkinci değeri giriniz: 6\n",
      "Toplam:  10\n",
      "Çıkarma :  -2\n",
      "Çarpım:  24\n",
      "Bölüm :  0.6666666666666666\n"
     ]
    }
   ],
   "source": [
    "deger1 = int(input(\"Birinci değeri giriniz: \"))\n",
    "deger2= int(input(\"İkinci değeri giriniz: \"))\n",
    "\n",
    "toplama = deger1 + deger2\n",
    "çıkarma = deger1 - deger2\n",
    "çarpma = deger1 * deger2\n",
    "bölme = deger1 / deger2\n",
    "\n",
    "print(\"Toplam: \",toplama)\n",
    "print(\"Çıkarma : \",çıkarma)\n",
    "print(\"Çarpım: \",çarpma)\n",
    "print(\"Bölüm : \",bölme)"
   ]
  },
  {
   "cell_type": "code",
   "execution_count": 64,
   "id": "a52cd76b",
   "metadata": {},
   "outputs": [
    {
     "name": "stdout",
     "output_type": "stream",
     "text": [
      "İsminizi giriniz: Büşra\n",
      " Yaşınızı giriniz: 21\n",
      "Şehir bilgisi giriniz: Tokat\n",
      "Mesleğiniz: Öğrenci\n",
      "İsim: Büşra\n",
      "Yaş: 21\n",
      "Şehir: Tokat\n",
      "Meslek: Öğrenci\n"
     ]
    }
   ],
   "source": [
    "isim = input(\"İsminizi giriniz: \")\n",
    "yaş = int(input(\" Yaşınızı giriniz: \"))\n",
    "şehir = input(\"Şehir bilgisi giriniz: \")\n",
    "meslek = input(\"Mesleğiniz: \")\n",
    "\n",
    "print(\"İsim:\",isim)\n",
    "print(\"Yaş:\",yaş)\n",
    "print(\"Şehir:\",şehir)\n",
    "print(\"Meslek:\",meslek)"
   ]
  },
  {
   "cell_type": "code",
   "execution_count": 73,
   "id": "3f542f04",
   "metadata": {},
   "outputs": [
    {
     "name": "stdout",
     "output_type": "stream",
     "text": [
      "Hi-Kod\n",
      "Veri\n",
      "Bilimi\n",
      "Atölyesi\n"
     ]
    }
   ],
   "source": [
    "atölye = \"Hi-Kod Veri Bilimi Atölyesi\"\n",
    "print(atölye[0:6])\n",
    "print(atölye[7:11])\n",
    "print(atölye[12:18])\n",
    "print(atölye[19:27])"
   ]
  },
  {
   "cell_type": "code",
   "execution_count": 74,
   "id": "387a9133",
   "metadata": {},
   "outputs": [
    {
     "data": {
      "text/plain": [
       "'HI-KOD VERI BILIMI ATÖLYESI'"
      ]
     },
     "execution_count": 74,
     "metadata": {},
     "output_type": "execute_result"
    }
   ],
   "source": [
    "atölye.upper()"
   ]
  },
  {
   "cell_type": "code",
   "execution_count": 75,
   "id": "bd4287d4",
   "metadata": {},
   "outputs": [
    {
     "data": {
      "text/plain": [
       "'hi-kod veri bilimi atölyesi'"
      ]
     },
     "execution_count": 75,
     "metadata": {},
     "output_type": "execute_result"
    }
   ],
   "source": [
    "atölye.lower()"
   ]
  },
  {
   "cell_type": "code",
   "execution_count": 78,
   "id": "41d793f0",
   "metadata": {},
   "outputs": [
    {
     "data": {
      "text/plain": [
       "'02468'"
      ]
     },
     "execution_count": 78,
     "metadata": {},
     "output_type": "execute_result"
    }
   ],
   "source": [
    "sayılar ='0123456789'\n",
    "sayılar[::2]"
   ]
  },
  {
   "cell_type": "code",
   "execution_count": 79,
   "id": "8613647f",
   "metadata": {},
   "outputs": [
    {
     "data": {
      "text/plain": [
       "'13579'"
      ]
     },
     "execution_count": 79,
     "metadata": {},
     "output_type": "execute_result"
    }
   ],
   "source": [
    "sayılar[1::2]"
   ]
  }
 ],
 "metadata": {
  "kernelspec": {
   "display_name": "Python 3 (ipykernel)",
   "language": "python",
   "name": "python3"
  },
  "language_info": {
   "codemirror_mode": {
    "name": "ipython",
    "version": 3
   },
   "file_extension": ".py",
   "mimetype": "text/x-python",
   "name": "python",
   "nbconvert_exporter": "python",
   "pygments_lexer": "ipython3",
   "version": "3.9.13"
  }
 },
 "nbformat": 4,
 "nbformat_minor": 5
}
